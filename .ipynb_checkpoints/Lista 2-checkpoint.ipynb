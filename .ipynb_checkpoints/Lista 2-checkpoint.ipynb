{
 "cells": [
  {
   "cell_type": "markdown",
   "id": "fee644f2",
   "metadata": {},
   "source": [
    "### 1) Crie uma função que remova todas as tuplas vazias de uma lista de tuplas. Tupla vazia é representado por ()."
   ]
  },
  {
   "cell_type": "code",
   "execution_count": 27,
   "id": "0795a357",
   "metadata": {},
   "outputs": [],
   "source": [
    "def removeTupleEmpty(listTuple):\n",
    "    listNoEmptyTuple = []\n",
    "    for itemTuple in listTuple:    \n",
    "        if itemTuple != ():\n",
    "            listNoEmptyTuple.append(itemTuple)\n",
    "    \n",
    "    return listNoEmptyTuple"
   ]
  },
  {
   "cell_type": "markdown",
   "id": "0ed1a68f",
   "metadata": {},
   "source": [
    "### 2) Crie uma função que processa tuplas com tuplas com valores numéricos e retorna uma tupla com as médias das tuplas. Atenção: O tamanho das tuplas é variável e as tuplas são imutáveis. Tuplas podem ser concatenadas com tuplas, mas não possuem operações de append ou de inserção. Exemplo: Para a tupla ((2,3,4),(3,4,5,6),(2,4),(4,8,9)) a função deve retornar a tupla (4.5, 9, 3, 10.5)"
   ]
  },
  {
   "cell_type": "code",
   "execution_count": 38,
   "id": "75bd8751",
   "metadata": {},
   "outputs": [],
   "source": [
    "def averageTuple(tupleTuple):\n",
    "    temp = []\n",
    "    for itemTuple in tupleTuple:\n",
    "        \n",
    "        sum = 0\n",
    "        index = 0\n",
    "        for item in itemTuple:\n",
    "            sum += item\n",
    "            index += 1\n",
    "            \n",
    "        temp.append(0 if index == 0 else sum/index)\n",
    "            \n",
    "    return tuple(temp)"
   ]
  },
  {
   "cell_type": "markdown",
   "id": "013dc891",
   "metadata": {},
   "source": [
    "### 3) Crie uma função que processa uma lista com strings e cria uma nova lista com os strings que possuem caracteres alfabéticos e numéricos."
   ]
  },
  {
   "cell_type": "code",
   "execution_count": null,
   "id": "df1792ed",
   "metadata": {},
   "outputs": [],
   "source": []
  },
  {
   "cell_type": "markdown",
   "id": "607466e7",
   "metadata": {},
   "source": [
    "### 4) Crie uma função que verifica se todos os caracteres de um string estão presentes em um outro string."
   ]
  },
  {
   "cell_type": "code",
   "execution_count": null,
   "id": "79b7c3f1",
   "metadata": {},
   "outputs": [],
   "source": []
  },
  {
   "cell_type": "code",
   "execution_count": 14,
   "id": "004a4025",
   "metadata": {},
   "outputs": [
    {
     "name": "stdout",
     "output_type": "stream",
     "text": [
      "[1, 3, 's', (1, 2), ()]\n"
     ]
    }
   ],
   "source": [
    "ls = [1, 3, 's', (1, 2), (), ()]\n",
    "ls.remove(())\n",
    "\n",
    "print(ls)"
   ]
  },
  {
   "cell_type": "markdown",
   "id": "b3fc987f",
   "metadata": {},
   "source": [
    "Utilizando Python:\n",
    "\n",
    "\n",
    "\n",
    "\n",
    "\n",
    "5) Crie uma função que executa a operação de multiplicação de duas matrizes. Represente as\n",
    "matrizes na forma de listas.\n",
    "6) Crie, usando generator, uma função que percorre uma lista do final para frente. Exemplo\n",
    "para a lista [4,7,8], a primeira operação next retorna o número 8, depois 7, e finalmente 4.\n",
    "7) Usando generator, crie uma lista infinita com todos os números primos.\n",
    "8) Crie uma função que filtre os números pares de uma lista de números aleatórios. Utilize\n",
    "obrigatoriamente a função de filtragem e função lambda.\n",
    "9) Suponha que os dados coletados de uma pesquisa estejam disponibilizados em uma matriz.\n",
    "Crie uma função que aplique uma função para cada linha de uma matriz e o resultado das\n",
    "operações em cada linha seja disponibilizado em uma lista. Utilize obrigatoriamente a função\n",
    "map. Por exemplo, a função a ser aplicada pode ser uma somatória, e a função então\n",
    "retornaria uma lista com as somatórias das linhas."
   ]
  },
  {
   "cell_type": "code",
   "execution_count": null,
   "id": "f6cbadcf",
   "metadata": {},
   "outputs": [],
   "source": []
  },
  {
   "cell_type": "code",
   "execution_count": null,
   "id": "d5243f7b",
   "metadata": {},
   "outputs": [],
   "source": []
  }
 ],
 "metadata": {
  "kernelspec": {
   "display_name": "Python 3 (ipykernel)",
   "language": "python",
   "name": "python3"
  },
  "language_info": {
   "codemirror_mode": {
    "name": "ipython",
    "version": 3
   },
   "file_extension": ".py",
   "mimetype": "text/x-python",
   "name": "python",
   "nbconvert_exporter": "python",
   "pygments_lexer": "ipython3",
   "version": "3.9.13"
  }
 },
 "nbformat": 4,
 "nbformat_minor": 5
}
