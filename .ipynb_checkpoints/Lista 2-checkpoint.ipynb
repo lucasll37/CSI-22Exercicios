{
 "cells": [
  {
   "cell_type": "markdown",
   "id": "7c9b8022",
   "metadata": {},
   "source": [
    "# CSI - 22 Programação Orientada a Objetos"
   ]
  },
  {
   "cell_type": "markdown",
   "id": "979ffb1b",
   "metadata": {},
   "source": [
    "# Lucas Silva Lima"
   ]
  },
  {
   "cell_type": "markdown",
   "id": "13824f96",
   "metadata": {},
   "source": [
    "## 2º Lista de Exercícios"
   ]
  },
  {
   "cell_type": "markdown",
   "id": "fee644f2",
   "metadata": {},
   "source": [
    "### 1) Crie uma função que remova todas as tuplas vazias de uma lista de tuplas. Tupla vazia é representado por ()."
   ]
  },
  {
   "cell_type": "code",
   "execution_count": 1,
   "id": "0795a357",
   "metadata": {},
   "outputs": [],
   "source": [
    "def removeTupleEmpty(listTuple):\n",
    "    listNoEmptyTuple = []\n",
    "    for itemTuple in listTuple:    \n",
    "        if itemTuple != ():\n",
    "            listNoEmptyTuple.append(itemTuple)\n",
    "    \n",
    "    return listNoEmptyTuple"
   ]
  },
  {
   "cell_type": "code",
   "execution_count": 2,
   "id": "f50e2d33",
   "metadata": {},
   "outputs": [],
   "source": [
    "listaComTuplaVazia = [1, 2, [2, 3, 'a'], (), 2, ()]"
   ]
  },
  {
   "cell_type": "code",
   "execution_count": 3,
   "id": "f2e69db6",
   "metadata": {},
   "outputs": [
    {
     "data": {
      "text/plain": [
       "[1, 2, [2, 3, 'a'], 2]"
      ]
     },
     "execution_count": 3,
     "metadata": {},
     "output_type": "execute_result"
    }
   ],
   "source": [
    "removeTupleEmpty(listaComTuplaVazia)"
   ]
  },
  {
   "cell_type": "markdown",
   "id": "0ed1a68f",
   "metadata": {},
   "source": [
    "### 2) Crie uma função que processa tuplas com tuplas com valores numéricos e retorna uma tupla com as médias das tuplas. Atenção: O tamanho das tuplas é variável e as tuplas são imutáveis. Tuplas podem ser concatenadas com tuplas, mas não possuem operações de append ou de inserção. Exemplo: Para a tupla ((2,3,4),(3,4,5,6),(2,4),(4,8,9)) a função deve retornar a tupla (4.5, 9, 3, 10.5)"
   ]
  },
  {
   "cell_type": "code",
   "execution_count": 4,
   "id": "75bd8751",
   "metadata": {},
   "outputs": [],
   "source": [
    "def averageTuple(tupleTuple):\n",
    "    temp = []\n",
    "    for itemTuple in tupleTuple:\n",
    "        \n",
    "        sum = 0\n",
    "        index = 0\n",
    "        for item in itemTuple:\n",
    "            sum += item\n",
    "            index += 1\n",
    "            \n",
    "        temp.append(0 if index == 0 else sum/index)\n",
    "            \n",
    "    return tuple(temp)"
   ]
  },
  {
   "cell_type": "code",
   "execution_count": 5,
   "id": "978bbf54",
   "metadata": {},
   "outputs": [],
   "source": [
    "tuplaComTuplaNum = ((2,3,4),(3,4,5,6),(2,4),(4,8,9))"
   ]
  },
  {
   "cell_type": "code",
   "execution_count": 6,
   "id": "600b6f23",
   "metadata": {},
   "outputs": [
    {
     "data": {
      "text/plain": [
       "(3.0, 4.5, 3.0, 7.0)"
      ]
     },
     "execution_count": 6,
     "metadata": {},
     "output_type": "execute_result"
    }
   ],
   "source": [
    "averageTuple(tuplaComTuplaNum)"
   ]
  },
  {
   "cell_type": "markdown",
   "id": "013dc891",
   "metadata": {},
   "source": [
    "### 3) Crie uma função que processa uma lista com strings e cria uma nova lista com os strings que possuem caracteres alfabéticos e numéricos."
   ]
  },
  {
   "cell_type": "code",
   "execution_count": 7,
   "id": "e0a77566",
   "metadata": {},
   "outputs": [],
   "source": [
    "def filterList(listWord):\n",
    "    return list(filter(lambda word: word.isalnum(), listWord))"
   ]
  },
  {
   "cell_type": "code",
   "execution_count": 8,
   "id": "a5afafc4",
   "metadata": {},
   "outputs": [],
   "source": [
    "listWords = [\"Lucas123\", \"Luc@s\", \"Luc4s\", \"Lucas\", \"123\", \"!23\", \"Luca$\"]"
   ]
  },
  {
   "cell_type": "code",
   "execution_count": 9,
   "id": "e64b8bd0",
   "metadata": {},
   "outputs": [
    {
     "data": {
      "text/plain": [
       "['Lucas123', 'Luc4s', 'Lucas', '123']"
      ]
     },
     "execution_count": 9,
     "metadata": {},
     "output_type": "execute_result"
    }
   ],
   "source": [
    "filterList(listWords)"
   ]
  },
  {
   "cell_type": "markdown",
   "id": "607466e7",
   "metadata": {},
   "source": [
    "### 4) Crie uma função que verifica se todos os caracteres de um string estão presentes em um outro string."
   ]
  },
  {
   "cell_type": "code",
   "execution_count": 10,
   "id": "79b7c3f1",
   "metadata": {},
   "outputs": [],
   "source": [
    "def containCheck(element, joint):\n",
    "    for letter in element:\n",
    "        if joint.find(letter) == -1:\n",
    "            return False\n",
    "    \n",
    "    return True "
   ]
  },
  {
   "cell_type": "code",
   "execution_count": 11,
   "id": "dc063be2",
   "metadata": {},
   "outputs": [
    {
     "data": {
      "text/plain": [
       "True"
      ]
     },
     "execution_count": 11,
     "metadata": {},
     "output_type": "execute_result"
    }
   ],
   "source": [
    "containCheck(\"amor\", \"roma\")"
   ]
  },
  {
   "cell_type": "code",
   "execution_count": 12,
   "id": "1405d110",
   "metadata": {},
   "outputs": [
    {
     "data": {
      "text/plain": [
       "False"
      ]
     },
     "execution_count": 12,
     "metadata": {},
     "output_type": "execute_result"
    }
   ],
   "source": [
    "containCheck(\"rota\", \"roma\")"
   ]
  },
  {
   "cell_type": "markdown",
   "id": "80a9fa29",
   "metadata": {},
   "source": [
    "### 5) Crie uma função que executa a operação de multiplicação de duas matrizes. Represente as matrizes na forma de listas."
   ]
  },
  {
   "cell_type": "code",
   "execution_count": 13,
   "id": "4a52b253",
   "metadata": {},
   "outputs": [],
   "source": [
    "def multMat(matA, matB):\n",
    "    lineA = len(matA)\n",
    "    columnB = len(matB[0])\n",
    "    res = []\n",
    "    for i in range(lineA):\n",
    "        res.append([])\n",
    "        for j in range(columnB):\n",
    "            calc = 0\n",
    "            for n in range(columnB):\n",
    "                calc += matA[i][n] * matB[n][j]\n",
    "\n",
    "            res[i].append(calc)\n",
    "    \n",
    "    return res"
   ]
  },
  {
   "cell_type": "code",
   "execution_count": 14,
   "id": "cf019d37",
   "metadata": {},
   "outputs": [],
   "source": [
    "matA = [[1,2,3,4],[4,5,6,4], [25, 26, 27,4]]"
   ]
  },
  {
   "cell_type": "code",
   "execution_count": 15,
   "id": "ab873c7b",
   "metadata": {},
   "outputs": [],
   "source": [
    "matB = [[9, 10, 11, 12],[13, 14, 15, 16], [17, 18, 19, 20], [21, 22, 23, 24]]"
   ]
  },
  {
   "cell_type": "code",
   "execution_count": 16,
   "id": "c36dc092",
   "metadata": {},
   "outputs": [
    {
     "data": {
      "text/plain": [
       "[[170, 180, 190, 200], [287, 306, 325, 344], [1106, 1188, 1270, 1352]]"
      ]
     },
     "execution_count": 16,
     "metadata": {},
     "output_type": "execute_result"
    }
   ],
   "source": [
    "multMat(matA, matB)"
   ]
  },
  {
   "cell_type": "markdown",
   "id": "12e376b4",
   "metadata": {},
   "source": [
    "### 6) Crie, usando generator, uma função que percorre uma lista do final para frente. Exemplo para a lista [4,7,8], a primeira operação next retorna o número 8, depois 7, e finalmente 4."
   ]
  },
  {
   "cell_type": "code",
   "execution_count": 17,
   "id": "824ec4e6",
   "metadata": {},
   "outputs": [],
   "source": [
    "def listBack(listForward):\n",
    "    for item in range(len(listForward)-1, -1, -1):\n",
    "        yield listForward[item]"
   ]
  },
  {
   "cell_type": "code",
   "execution_count": 18,
   "id": "6f9b10a3",
   "metadata": {},
   "outputs": [],
   "source": [
    "sampleList = [4,7,8]"
   ]
  },
  {
   "cell_type": "code",
   "execution_count": 19,
   "id": "d1e94a47",
   "metadata": {},
   "outputs": [
    {
     "name": "stdout",
     "output_type": "stream",
     "text": [
      "8 7 4\n"
     ]
    }
   ],
   "source": [
    "test = listBack(sampleList)\n",
    "print(next(test), next(test), next(test))"
   ]
  },
  {
   "cell_type": "markdown",
   "id": "84185f1e",
   "metadata": {},
   "source": [
    "### 7) Usando generator, crie uma lista infinita com todos os números primos."
   ]
  },
  {
   "cell_type": "code",
   "execution_count": 20,
   "id": "b6c3b1ca",
   "metadata": {},
   "outputs": [],
   "source": [
    "def primeGenerator():\n",
    "    n = 2\n",
    "    while(True):\n",
    "        for q in range(n-1, 1, -1):\n",
    "            if not n % q:\n",
    "                n += 1\n",
    "                break\n",
    "                \n",
    "        yield n\n",
    "        n += 1"
   ]
  },
  {
   "cell_type": "code",
   "execution_count": 21,
   "id": "b3db4a67",
   "metadata": {},
   "outputs": [
    {
     "name": "stdout",
     "output_type": "stream",
     "text": [
      "2\n",
      "3\n",
      "5\n",
      "7\n",
      "9\n"
     ]
    }
   ],
   "source": [
    "a = primeGenerator()\n",
    "for i in range(5):\n",
    "    print(next(a))"
   ]
  },
  {
   "cell_type": "markdown",
   "id": "1d4cc979",
   "metadata": {},
   "source": [
    "### 8) Crie uma função que filtre os números pares de uma lista de números aleatórios. Utilize obrigatoriamente a função de filtragem e função lambda."
   ]
  },
  {
   "cell_type": "code",
   "execution_count": 22,
   "id": "cc207adc",
   "metadata": {},
   "outputs": [],
   "source": [
    "def filterEven(listNumber):\n",
    "    return list(filter(lambda n: n % 2, sampleListNumber))"
   ]
  },
  {
   "cell_type": "code",
   "execution_count": 23,
   "id": "fe2cb986",
   "metadata": {},
   "outputs": [],
   "source": [
    "sampleListNumber = [1,2,3,4,5,6,7,8,9,10]"
   ]
  },
  {
   "cell_type": "code",
   "execution_count": 24,
   "id": "5bb1b570",
   "metadata": {},
   "outputs": [
    {
     "data": {
      "text/plain": [
       "[1, 3, 5, 7, 9]"
      ]
     },
     "execution_count": 24,
     "metadata": {},
     "output_type": "execute_result"
    }
   ],
   "source": [
    "filterEven(sampleListNumber)"
   ]
  },
  {
   "cell_type": "markdown",
   "id": "903c8643",
   "metadata": {},
   "source": [
    "### 9) Suponha que os dados coletados de uma pesquisa estejam disponibilizados em uma matriz. Crie uma função que aplique uma função para cada linha de uma matriz e o resultado das operações em cada linha seja disponibilizado em uma lista. Utilize obrigatoriamente a função map. Por exemplo, a função a ser aplicada pode ser uma somatória, e a função então retornaria uma lista com as somatórias das linhas."
   ]
  },
  {
   "cell_type": "code",
   "execution_count": 25,
   "id": "1a0ca20a",
   "metadata": {},
   "outputs": [],
   "source": [
    "def listLineAverage(listNumber):\n",
    "    sum = 0\n",
    "    for element in listNumber:\n",
    "        sum += element\n",
    "    \n",
    "    return sum/len(listNumber)"
   ]
  },
  {
   "cell_type": "code",
   "execution_count": 26,
   "id": "e7f1135d",
   "metadata": {},
   "outputs": [],
   "source": [
    "def matrixLineAverage(matrix):\n",
    "    return list(map(listLineAverage, matrix))"
   ]
  },
  {
   "cell_type": "code",
   "execution_count": 27,
   "id": "79e11e89",
   "metadata": {},
   "outputs": [
    {
     "data": {
      "text/plain": [
       "[[1, 2, 3, 4], [4, 5, 6, 4], [25, 26, 27, 4]]"
      ]
     },
     "execution_count": 27,
     "metadata": {},
     "output_type": "execute_result"
    }
   ],
   "source": [
    "matA"
   ]
  },
  {
   "cell_type": "code",
   "execution_count": 28,
   "id": "323083a7",
   "metadata": {},
   "outputs": [
    {
     "data": {
      "text/plain": [
       "[2.5, 4.75, 20.5]"
      ]
     },
     "execution_count": 28,
     "metadata": {},
     "output_type": "execute_result"
    }
   ],
   "source": [
    "matrixLineAverage(matA)"
   ]
  }
 ],
 "metadata": {
  "kernelspec": {
   "display_name": "Python 3 (ipykernel)",
   "language": "python",
   "name": "python3"
  },
  "language_info": {
   "codemirror_mode": {
    "name": "ipython",
    "version": 3
   },
   "file_extension": ".py",
   "mimetype": "text/x-python",
   "name": "python",
   "nbconvert_exporter": "python",
   "pygments_lexer": "ipython3",
   "version": "3.9.13"
  }
 },
 "nbformat": 4,
 "nbformat_minor": 5
}
